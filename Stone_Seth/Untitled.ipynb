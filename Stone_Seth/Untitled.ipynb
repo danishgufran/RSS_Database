{
 "cells": [
  {
   "cell_type": "code",
   "execution_count": 2,
   "id": "fbd62aa1",
   "metadata": {},
   "outputs": [
    {
     "ename": "ModuleNotFoundError",
     "evalue": "No module named 'Seth'",
     "output_type": "error",
     "traceback": [
      "\u001b[0;31m---------------------------------------------------------------------------\u001b[0m",
      "\u001b[0;31mModuleNotFoundError\u001b[0m                       Traceback (most recent call last)",
      "Input \u001b[0;32mIn [2]\u001b[0m, in \u001b[0;36m<cell line: 16>\u001b[0;34m()\u001b[0m\n\u001b[1;32m     13\u001b[0m \u001b[38;5;28;01mimport\u001b[39;00m \u001b[38;5;21;01mtime\u001b[39;00m\n\u001b[1;32m     14\u001b[0m \u001b[38;5;28;01mimport\u001b[39;00m \u001b[38;5;21;01mmatplotlib\u001b[39;00m\u001b[38;5;21;01m.\u001b[39;00m\u001b[38;5;21;01mpyplot\u001b[39;00m \u001b[38;5;28;01mas\u001b[39;00m \u001b[38;5;21;01mplt\u001b[39;00m\n\u001b[0;32m---> 16\u001b[0m \u001b[38;5;28;01mimport\u001b[39;00m \u001b[38;5;21;01mSeth\u001b[39;00m\n\u001b[1;32m     17\u001b[0m \u001b[38;5;28;01mfrom\u001b[39;00m \u001b[38;5;21;01mSeth\u001b[39;00m \u001b[38;5;28;01mimport\u001b[39;00m fetch_seth, Devices, Floorplan, get_mac_ids\n",
      "\u001b[0;31mModuleNotFoundError\u001b[0m: No module named 'Seth'"
     ]
    }
   ],
   "source": [
    "import copy\n",
    "from copy import deepcopy\n",
    "import numpy as np\n",
    "import pandas as pd\n",
    "import tensorflow as tf\n",
    "from tensorflow import keras\n",
    "from tensorflow.keras.models import *\n",
    "from tensorflow.keras.layers import Dense, Dropout, Flatten, Reshape\n",
    "from tensorflow.keras.layers import Conv2D, MaxPooling2D, Conv1D, MaxPooling1D , LSTM, Attention\n",
    "from tensorflow.keras.losses import *\n",
    "from tensorflow.keras.optimizers import*\n",
    "import random as random\n",
    "import time\n",
    "import matplotlib.pyplot as plt\n",
    "\n",
    "import Seth\n",
    "from Seth import fetch_seth, Devices, Floorplan, get_mac_ids"
   ]
  },
  {
   "cell_type": "code",
   "execution_count": null,
   "id": "5971df88",
   "metadata": {},
   "outputs": [],
   "source": [
    "def train():\n",
    "    # dfs is a list of dataframes\n",
    "# meta is a dataframe with meta data\n",
    "\n",
    "#getting train data\n",
    "    train_fp, train_meta = fetch_seth(\n",
    "    Devices.lg,\n",
    "    Floorplan.OFFICE,\n",
    "    ci = 0,\n",
    "    base_path=\"temp/clean/\"  # <-- this would be 'seth/temp/clean' from outside this dir\n",
    ")\n",
    "    train_fp = train_fp.sample(frac=1).reset_index(drop=True)\n",
    "    train_aps = get_mac_ids(train_fp.columns)\n",
    "    train_x = train_fp[train_aps].values\n",
    "    train_x = (train_x + 100)/100\n",
    "    train_y = (train_fp[\"label\"]).values\n",
    "    return train_x, train_y, train_aps"
   ]
  },
  {
   "cell_type": "code",
   "execution_count": null,
   "id": "1d2bf641",
   "metadata": {},
   "outputs": [],
   "source": [
    "def test(itr, train_aps):\n",
    "    #getting test data\n",
    "    test_fp, test_meta = fetch_seth(\n",
    "    Devices.lg ,\n",
    "    Floorplan.OFFICE,\n",
    "    ci = itr,\n",
    "    base_path=\"temp/clean/\"  # <-- this would be 'seth/temp/clean' from outside this dir\n",
    ")\n",
    "    test_aps = get_mac_ids(test_fp.columns)\n",
    "    missing_aps = list(set(train_aps)-set(test_aps))\n",
    "    test_fp[missing_aps] = -100\n",
    "    test_x = test_fp[train_aps].values\n",
    "    test_x = (test_x + 100)/100\n",
    "    test_y = (test_fp[\"label\"]).values\n",
    "    return test_x, test_y\n"
   ]
  },
  {
   "cell_type": "code",
   "execution_count": null,
   "id": "961aae3c",
   "metadata": {},
   "outputs": [],
   "source": [
    "def mean_cal(group):\n",
    "    for i in range (0, len(group)):\n",
    "        if group[i] < 0:\n",
    "            group[i] = -group [i]\n",
    "    mean_diff = np.mean(group)\n",
    "    return mean_diff"
   ]
  },
  {
   "cell_type": "code",
   "execution_count": null,
   "id": "15f4ad85",
   "metadata": {},
   "outputs": [],
   "source": [
    "import keras.backend as K\n",
    "\n",
    "def custom_mse(y_true, y_pred):\n",
    " \n",
    "    # calculating squared difference between target and predicted values \n",
    "    loss = K.square(y_pred - y_true)  # (batch_size, 2)\n",
    "    \n",
    "    # multiplying the values with weights along batch dimension\n",
    "    loss = loss * [0.3, 0.7]          # (batch_size, 2)\n",
    "                \n",
    "    # summing both loss values along batch dimension \n",
    "    loss = K.sum(loss, axis=1)        # (batch_size,)\n",
    "    \n",
    "    return loss"
   ]
  },
  {
   "cell_type": "code",
   "execution_count": null,
   "id": "573bf6b4",
   "metadata": {},
   "outputs": [],
   "source": [
    "train_x, train_y, train_aps = train()\n",
    "callbacks = [tf.keras.callbacks.EarlyStopping(patience=300)]\n",
    "\n",
    "error = []\n",
    "mean_error = []\n",
    "input_shape = train_x.shape[1] # input = 203\n",
    "model = Sequential()\n",
    "input = tf.keras.Input(shape=(input_shape,)) # enc = 190\n",
    "encoded = Dense(190, activation='relu')(input)\n",
    "decoded = Dense(input_shape, activation='softmax')(encoded) # recons = 203\n",
    "autoencoder = Model(input,decoded)\n",
    "\n",
    "opt = Adam(learning_rate=1e-4)\n",
    "\n",
    "autoencoder.compile(loss=custom_mse,\n",
    "            optimizer=opt,\n",
    "            metrics=['accuracy'])\n",
    "            \n",
    "\n",
    "autoencoder.fit(train_x, train_x,\n",
    "        epochs=1000,\n",
    "        callbacks = callbacks,\n",
    "        validation_split = 0.2,\n",
    "        verbose=1)\n"
   ]
  },
  {
   "cell_type": "code",
   "execution_count": null,
   "id": "cba9a5c4",
   "metadata": {},
   "outputs": [],
   "source": [
    "test_x, test_y = test(0, train_aps)\n",
    "\n",
    "predicted = autoencoder.predict(train_x)\n"
   ]
  },
  {
   "cell_type": "code",
   "execution_count": null,
   "id": "245b9e74",
   "metadata": {},
   "outputs": [],
   "source": [
    "train_x, train_y, train_aps = train()\n",
    "callbacks = [tf.keras.callbacks.EarlyStopping(patience=300)]\n",
    "\n",
    "error = []\n",
    "mean_error = []\n",
    "input_shape = train_x.shape[1] # input = 203\n",
    "model = Sequential()\n",
    "input = tf.keras.Input(shape=(input_shape,)) # enc = 190\n",
    "encoded = Dense(190, activation='relu')(input)\n",
    "encoded = Dense(175, activation='relu')(encoded)\n",
    "decoded = Dense(190, activation='relu')(encoded)\n",
    "decoded = Dense(input_shape, activation='softmax')(decoded) # recons = 203\n",
    "autoencoder_2 = Model(input,decoded)\n",
    "\n",
    "opt = Adam(learning_rate=1e-4)\n",
    "\n",
    "autoencoder_2.compile(loss=custom_mse,\n",
    "            optimizer=opt,\n",
    "            metrics=['accuracy'])\n",
    "            \n",
    "\n",
    "autoencoder_2.fit(predicted, predicted,\n",
    "        epochs=1000,\n",
    "        callbacks = callbacks,\n",
    "        validation_split = 0.2,\n",
    "        verbose=1)\n"
   ]
  },
  {
   "cell_type": "code",
   "execution_count": null,
   "id": "c6f7eaf4",
   "metadata": {},
   "outputs": [],
   "source": [
    "test_x, test_y = test(0, train_aps)\n",
    "\n",
    "predicted = autoencoder_2.predict(test_x)\n"
   ]
  }
 ],
 "metadata": {
  "kernelspec": {
   "display_name": "Python 3.9 - (tf)",
   "language": "python",
   "name": "tensorflow"
  },
  "language_info": {
   "codemirror_mode": {
    "name": "ipython",
    "version": 3
   },
   "file_extension": ".py",
   "mimetype": "text/x-python",
   "name": "python",
   "nbconvert_exporter": "python",
   "pygments_lexer": "ipython3",
   "version": "3.9.12"
  }
 },
 "nbformat": 4,
 "nbformat_minor": 5
}
